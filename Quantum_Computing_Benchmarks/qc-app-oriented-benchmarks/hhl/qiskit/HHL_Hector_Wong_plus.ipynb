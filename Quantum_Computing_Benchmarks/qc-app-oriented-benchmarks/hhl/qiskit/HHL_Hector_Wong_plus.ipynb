{
 "cells": [
  {
   "cell_type": "markdown",
   "metadata": {},
   "source": [
    "Paper Source\n",
    "\n",
    "\"Step-by-Step HHL Algorithm Walkthrough to Enhance the Understanding of Critical Quantum Computing Concepts\"\n",
    "\n",
    "https://arxiv.org/abs/2108.09004\n"
   ]
  },
  {
   "cell_type": "code",
   "execution_count": 1,
   "metadata": {
    "colab": {
     "base_uri": "https://localhost:8080/"
    },
    "id": "TM2UtFxQ2SOb",
    "outputId": "87fbe2e0-11aa-48b1-a98f-50a31b934529"
   },
   "outputs": [
    {
     "name": "stdout",
     "output_type": "stream",
     "text": [
      "Requirement already satisfied: qiskit[visualization] in c:\\users\\giris\\anaconda3\\envs\\qiskit\\lib\\site-packages (0.44.3)\n",
      "Requirement already satisfied: qiskit-terra==0.25.3 in c:\\users\\giris\\anaconda3\\envs\\qiskit\\lib\\site-packages (from qiskit[visualization]) (0.25.3)\n",
      "Requirement already satisfied: rustworkx>=0.13.0 in c:\\users\\giris\\anaconda3\\envs\\qiskit\\lib\\site-packages (from qiskit-terra==0.25.3->qiskit[visualization]) (0.13.2)\n",
      "Requirement already satisfied: numpy>=1.17 in c:\\users\\giris\\anaconda3\\envs\\qiskit\\lib\\site-packages (from qiskit-terra==0.25.3->qiskit[visualization]) (1.24.4)\n",
      "Requirement already satisfied: ply>=3.10 in c:\\users\\giris\\anaconda3\\envs\\qiskit\\lib\\site-packages (from qiskit-terra==0.25.3->qiskit[visualization]) (3.11)\n",
      "Requirement already satisfied: psutil>=5 in c:\\users\\giris\\anaconda3\\envs\\qiskit\\lib\\site-packages (from qiskit-terra==0.25.3->qiskit[visualization]) (5.9.6)\n",
      "Requirement already satisfied: scipy>=1.5 in c:\\users\\giris\\anaconda3\\envs\\qiskit\\lib\\site-packages (from qiskit-terra==0.25.3->qiskit[visualization]) (1.10.1)\n",
      "Requirement already satisfied: sympy>=1.3 in c:\\users\\giris\\anaconda3\\envs\\qiskit\\lib\\site-packages (from qiskit-terra==0.25.3->qiskit[visualization]) (1.12)\n",
      "Requirement already satisfied: dill>=0.3 in c:\\users\\giris\\anaconda3\\envs\\qiskit\\lib\\site-packages (from qiskit-terra==0.25.3->qiskit[visualization]) (0.3.7)\n",
      "Requirement already satisfied: python-dateutil>=2.8.0 in c:\\users\\giris\\anaconda3\\envs\\qiskit\\lib\\site-packages (from qiskit-terra==0.25.3->qiskit[visualization]) (2.8.2)\n",
      "Requirement already satisfied: stevedore>=3.0.0 in c:\\users\\giris\\anaconda3\\envs\\qiskit\\lib\\site-packages (from qiskit-terra==0.25.3->qiskit[visualization]) (5.1.0)\n",
      "Requirement already satisfied: typing-extensions in c:\\users\\giris\\anaconda3\\envs\\qiskit\\lib\\site-packages (from qiskit-terra==0.25.3->qiskit[visualization]) (4.8.0)\n",
      "Requirement already satisfied: matplotlib>=3.3 in c:\\users\\giris\\anaconda3\\envs\\qiskit\\lib\\site-packages (from qiskit-terra[visualization]; extra == \"visualization\"->qiskit[visualization]) (3.7.3)\n",
      "Requirement already satisfied: ipywidgets>=7.3.0 in c:\\users\\giris\\anaconda3\\envs\\qiskit\\lib\\site-packages (from qiskit-terra[visualization]; extra == \"visualization\"->qiskit[visualization]) (8.1.1)\n",
      "Requirement already satisfied: pydot in c:\\users\\giris\\anaconda3\\envs\\qiskit\\lib\\site-packages (from qiskit-terra[visualization]; extra == \"visualization\"->qiskit[visualization]) (1.4.2)\n",
      "Requirement already satisfied: pillow>=4.2.1 in c:\\users\\giris\\anaconda3\\envs\\qiskit\\lib\\site-packages (from qiskit-terra[visualization]; extra == \"visualization\"->qiskit[visualization]) (10.1.0)\n",
      "Requirement already satisfied: pylatexenc>=1.4 in c:\\users\\giris\\anaconda3\\envs\\qiskit\\lib\\site-packages (from qiskit-terra[visualization]; extra == \"visualization\"->qiskit[visualization]) (2.10)\n",
      "Requirement already satisfied: seaborn>=0.9.0 in c:\\users\\giris\\anaconda3\\envs\\qiskit\\lib\\site-packages (from qiskit-terra[visualization]; extra == \"visualization\"->qiskit[visualization]) (0.13.0)\n",
      "Requirement already satisfied: pygments>=2.4 in c:\\users\\giris\\anaconda3\\envs\\qiskit\\lib\\site-packages (from qiskit-terra[visualization]; extra == \"visualization\"->qiskit[visualization]) (2.16.1)\n",
      "Requirement already satisfied: comm>=0.1.3 in c:\\users\\giris\\anaconda3\\envs\\qiskit\\lib\\site-packages (from ipywidgets>=7.3.0->qiskit-terra[visualization]; extra == \"visualization\"->qiskit[visualization]) (0.1.4)\n",
      "Requirement already satisfied: ipython>=6.1.0 in c:\\users\\giris\\anaconda3\\envs\\qiskit\\lib\\site-packages (from ipywidgets>=7.3.0->qiskit-terra[visualization]; extra == \"visualization\"->qiskit[visualization]) (8.12.3)\n",
      "Requirement already satisfied: traitlets>=4.3.1 in c:\\users\\giris\\anaconda3\\envs\\qiskit\\lib\\site-packages (from ipywidgets>=7.3.0->qiskit-terra[visualization]; extra == \"visualization\"->qiskit[visualization]) (5.13.0)\n",
      "Requirement already satisfied: widgetsnbextension~=4.0.9 in c:\\users\\giris\\anaconda3\\envs\\qiskit\\lib\\site-packages (from ipywidgets>=7.3.0->qiskit-terra[visualization]; extra == \"visualization\"->qiskit[visualization]) (4.0.9)\n",
      "Requirement already satisfied: jupyterlab-widgets~=3.0.9 in c:\\users\\giris\\anaconda3\\envs\\qiskit\\lib\\site-packages (from ipywidgets>=7.3.0->qiskit-terra[visualization]; extra == \"visualization\"->qiskit[visualization]) (3.0.9)\n",
      "Requirement already satisfied: contourpy>=1.0.1 in c:\\users\\giris\\anaconda3\\envs\\qiskit\\lib\\site-packages (from matplotlib>=3.3->qiskit-terra[visualization]; extra == \"visualization\"->qiskit[visualization]) (1.1.1)\n",
      "Requirement already satisfied: cycler>=0.10 in c:\\users\\giris\\anaconda3\\envs\\qiskit\\lib\\site-packages (from matplotlib>=3.3->qiskit-terra[visualization]; extra == \"visualization\"->qiskit[visualization]) (0.12.1)\n",
      "Requirement already satisfied: fonttools>=4.22.0 in c:\\users\\giris\\anaconda3\\envs\\qiskit\\lib\\site-packages (from matplotlib>=3.3->qiskit-terra[visualization]; extra == \"visualization\"->qiskit[visualization]) (4.43.1)\n",
      "Requirement already satisfied: kiwisolver>=1.0.1 in c:\\users\\giris\\anaconda3\\envs\\qiskit\\lib\\site-packages (from matplotlib>=3.3->qiskit-terra[visualization]; extra == \"visualization\"->qiskit[visualization]) (1.4.5)\n",
      "Requirement already satisfied: packaging>=20.0 in c:\\users\\giris\\anaconda3\\envs\\qiskit\\lib\\site-packages (from matplotlib>=3.3->qiskit-terra[visualization]; extra == \"visualization\"->qiskit[visualization]) (23.2)\n",
      "Requirement already satisfied: pyparsing>=2.3.1 in c:\\users\\giris\\anaconda3\\envs\\qiskit\\lib\\site-packages (from matplotlib>=3.3->qiskit-terra[visualization]; extra == \"visualization\"->qiskit[visualization]) (3.1.1)\n",
      "Requirement already satisfied: importlib-resources>=3.2.0 in c:\\users\\giris\\anaconda3\\envs\\qiskit\\lib\\site-packages (from matplotlib>=3.3->qiskit-terra[visualization]; extra == \"visualization\"->qiskit[visualization]) (6.1.0)\n",
      "Requirement already satisfied: six>=1.5 in c:\\users\\giris\\anaconda3\\envs\\qiskit\\lib\\site-packages (from python-dateutil>=2.8.0->qiskit-terra==0.25.3->qiskit[visualization]) (1.16.0)\n",
      "Requirement already satisfied: pandas>=1.2 in c:\\users\\giris\\anaconda3\\envs\\qiskit\\lib\\site-packages (from seaborn>=0.9.0->qiskit-terra[visualization]; extra == \"visualization\"->qiskit[visualization]) (2.0.3)\n",
      "Requirement already satisfied: pbr!=2.1.0,>=2.0.0 in c:\\users\\giris\\anaconda3\\envs\\qiskit\\lib\\site-packages (from stevedore>=3.0.0->qiskit-terra==0.25.3->qiskit[visualization]) (5.11.1)\n",
      "Requirement already satisfied: mpmath>=0.19 in c:\\users\\giris\\anaconda3\\envs\\qiskit\\lib\\site-packages (from sympy>=1.3->qiskit-terra==0.25.3->qiskit[visualization]) (1.3.0)\n",
      "Requirement already satisfied: zipp>=3.1.0 in c:\\users\\giris\\anaconda3\\envs\\qiskit\\lib\\site-packages (from importlib-resources>=3.2.0->matplotlib>=3.3->qiskit-terra[visualization]; extra == \"visualization\"->qiskit[visualization]) (3.17.0)\n",
      "Requirement already satisfied: backcall in c:\\users\\giris\\anaconda3\\envs\\qiskit\\lib\\site-packages (from ipython>=6.1.0->ipywidgets>=7.3.0->qiskit-terra[visualization]; extra == \"visualization\"->qiskit[visualization]) (0.2.0)\n",
      "Requirement already satisfied: decorator in c:\\users\\giris\\anaconda3\\envs\\qiskit\\lib\\site-packages (from ipython>=6.1.0->ipywidgets>=7.3.0->qiskit-terra[visualization]; extra == \"visualization\"->qiskit[visualization]) (5.1.1)\n",
      "Requirement already satisfied: jedi>=0.16 in c:\\users\\giris\\anaconda3\\envs\\qiskit\\lib\\site-packages (from ipython>=6.1.0->ipywidgets>=7.3.0->qiskit-terra[visualization]; extra == \"visualization\"->qiskit[visualization]) (0.19.1)\n",
      "Requirement already satisfied: matplotlib-inline in c:\\users\\giris\\anaconda3\\envs\\qiskit\\lib\\site-packages (from ipython>=6.1.0->ipywidgets>=7.3.0->qiskit-terra[visualization]; extra == \"visualization\"->qiskit[visualization]) (0.1.6)\n",
      "Requirement already satisfied: pickleshare in c:\\users\\giris\\anaconda3\\envs\\qiskit\\lib\\site-packages (from ipython>=6.1.0->ipywidgets>=7.3.0->qiskit-terra[visualization]; extra == \"visualization\"->qiskit[visualization]) (0.7.5)\n",
      "Requirement already satisfied: prompt-toolkit!=3.0.37,<3.1.0,>=3.0.30 in c:\\users\\giris\\anaconda3\\envs\\qiskit\\lib\\site-packages (from ipython>=6.1.0->ipywidgets>=7.3.0->qiskit-terra[visualization]; extra == \"visualization\"->qiskit[visualization]) (3.0.39)\n",
      "Requirement already satisfied: stack-data in c:\\users\\giris\\anaconda3\\envs\\qiskit\\lib\\site-packages (from ipython>=6.1.0->ipywidgets>=7.3.0->qiskit-terra[visualization]; extra == \"visualization\"->qiskit[visualization]) (0.6.3)\n",
      "Requirement already satisfied: colorama in c:\\users\\giris\\anaconda3\\envs\\qiskit\\lib\\site-packages (from ipython>=6.1.0->ipywidgets>=7.3.0->qiskit-terra[visualization]; extra == \"visualization\"->qiskit[visualization]) (0.4.6)\n",
      "Requirement already satisfied: pytz>=2020.1 in c:\\users\\giris\\anaconda3\\envs\\qiskit\\lib\\site-packages (from pandas>=1.2->seaborn>=0.9.0->qiskit-terra[visualization]; extra == \"visualization\"->qiskit[visualization]) (2023.3.post1)\n",
      "Requirement already satisfied: tzdata>=2022.1 in c:\\users\\giris\\anaconda3\\envs\\qiskit\\lib\\site-packages (from pandas>=1.2->seaborn>=0.9.0->qiskit-terra[visualization]; extra == \"visualization\"->qiskit[visualization]) (2023.3)\n",
      "Requirement already satisfied: parso<0.9.0,>=0.8.3 in c:\\users\\giris\\anaconda3\\envs\\qiskit\\lib\\site-packages (from jedi>=0.16->ipython>=6.1.0->ipywidgets>=7.3.0->qiskit-terra[visualization]; extra == \"visualization\"->qiskit[visualization]) (0.8.3)\n",
      "Requirement already satisfied: wcwidth in c:\\users\\giris\\anaconda3\\envs\\qiskit\\lib\\site-packages (from prompt-toolkit!=3.0.37,<3.1.0,>=3.0.30->ipython>=6.1.0->ipywidgets>=7.3.0->qiskit-terra[visualization]; extra == \"visualization\"->qiskit[visualization]) (0.2.9)\n",
      "Requirement already satisfied: executing>=1.2.0 in c:\\users\\giris\\anaconda3\\envs\\qiskit\\lib\\site-packages (from stack-data->ipython>=6.1.0->ipywidgets>=7.3.0->qiskit-terra[visualization]; extra == \"visualization\"->qiskit[visualization]) (2.0.1)\n",
      "Requirement already satisfied: asttokens>=2.1.0 in c:\\users\\giris\\anaconda3\\envs\\qiskit\\lib\\site-packages (from stack-data->ipython>=6.1.0->ipywidgets>=7.3.0->qiskit-terra[visualization]; extra == \"visualization\"->qiskit[visualization]) (2.4.1)\n",
      "Requirement already satisfied: pure-eval in c:\\users\\giris\\anaconda3\\envs\\qiskit\\lib\\site-packages (from stack-data->ipython>=6.1.0->ipywidgets>=7.3.0->qiskit-terra[visualization]; extra == \"visualization\"->qiskit[visualization]) (0.2.2)\n"
     ]
    }
   ],
   "source": [
    "!pip install qiskit[visualization]\n",
    "\n",
    "# Imports for Qiskit\n",
    "from qiskit import QuantumCircuit, execute, Aer, IBMQ\n",
    "from qiskit.compiler import transpile, assemble\n",
    "from qiskit.tools.jupyter import *\n",
    "from qiskit.visualization import *\n",
    "from qiskit import *\n",
    "from qiskit import IBMQ, Aer\n",
    "from qiskit import QuantumCircuit, ClassicalRegister, QuantumRegister\n",
    "from qiskit.visualization import plot_histogram\n",
    "import numpy as np\n",
    "\n",
    "# Various imports \n",
    "import numpy as np\n",
    "\n",
    "from copy import deepcopy\n",
    "from matplotlib import pyplot as plt\n",
    "\n",
    "# IBMQ.save_account('Put your token')\n",
    "# provider = IBMQ.load_account()\n",
    "# IBMQ.get_provider(hub='ibm-q', group='open', project = 'main')"
   ]
  },
  {
   "cell_type": "code",
   "execution_count": 2,
   "metadata": {
    "colab": {
     "base_uri": "https://localhost:8080/",
     "height": 276
    },
    "id": "Wwtja16C2eXL",
    "outputId": "fabc162c-19b8-4c2a-aa9f-fbbab024bf8d"
   },
   "outputs": [
    {
     "data": {
      "image/png": "[encoded data removed]",
      "text/plain": [
       "<Figure size 261.567x451.5 with 1 Axes>"
      ]
     },
     "execution_count": 2,
     "metadata": {},
     "output_type": "execute_result"
    }
   ],
   "source": [
    "# Create the various registers needed\n",
    "clock = QuantumRegister(2, name='clock')\n",
    "input = QuantumRegister(1, name='b')\n",
    "ancilla = QuantumRegister(1, name='ancilla')\n",
    "measurement = ClassicalRegister(2, name='c')\n",
    "\n",
    "# Create an empty circuit with the specified registers\n",
    "circuit = QuantumCircuit(ancilla, clock, input, measurement)\n",
    "\n",
    "circuit.barrier()\n",
    "circuit.draw(output='mpl')"
   ]
  },
  {
   "cell_type": "code",
   "execution_count": 8,
   "metadata": {
    "id": "qc_OheZk2kKM"
   },
   "outputs": [],
   "source": [
    "def qft_dagger(circ, q, n):      \n",
    "    circ.h(clock[1]);\n",
    "    for j in reversed(range(n)):\n",
    "      for k in reversed(range(j+1,n)):\n",
    "        circ.cu1(-np.pi/float(2**(k-j)), q[k], q[j]);\n",
    "    circ.h(clock[0]);\n",
    "    circ.swap(clock[0], clock[1]);\n",
    "\n",
    "def qft(circ, q, n):\n",
    "    circ.swap(clock[0], clock[1]);\n",
    "    circ.h(clock[0]);\n",
    "    for j in reversed(range(n)):\n",
    "      for k in reversed(range(j+1,n)):\n",
    "        circ.cu1(np.pi/float(2**(k-j)), q[k], q[j]);\n",
    "    circ.h(clock[1]);"
   ]
  },
  {
   "cell_type": "code",
   "execution_count": 9,
   "metadata": {
    "id": "OtdDOqI_3EBa"
   },
   "outputs": [],
   "source": [
    "def qpe(circ, clock, target):\n",
    "    circuit.barrier()\n",
    "\n",
    "    # e^{i*A*t}\n",
    "    circuit.cu(np.pi/2, -np.pi/2, np.pi/2, 3*np.pi/4, clock[0], input, label='U');\n",
    "    \n",
    "    # e^{i*A*t*2}\n",
    "    circuit.cu(np.pi, np.pi, 0, 0, clock[1], input, label='U2');\n",
    "\n",
    "    circuit.barrier();\n",
    "    \n",
    "    # Perform an inverse QFT on the register holding the eigenvalues\n",
    "    qft_dagger(circuit, clock, 2)\n",
    "    \n",
    "def inv_qpe(circ, clock, target):\n",
    "    \n",
    "    # Perform a QFT on the register holding the eigenvalues\n",
    "    qft(circuit, clock, 2)\n",
    "\n",
    "    circuit.barrier()\n",
    "\n",
    "    # e^{i*A*t*2}\n",
    "    circuit.cu(np.pi, np.pi, 0, 0, clock[1], input, label='U2');\n",
    "\n",
    "    #circuit.barrier();\n",
    "\n",
    "    # e^{i*A*t}\n",
    "    circuit.cu(np.pi/2, np.pi/2, -np.pi/2, -3*np.pi/4, clock[0], input, label='U');\n",
    "\n",
    "    circuit.barrier()"
   ]
  },
  {
   "cell_type": "code",
   "execution_count": null,
   "metadata": {},
   "outputs": [],
   "source": []
  },
  {
   "cell_type": "code",
   "execution_count": 10,
   "metadata": {
    "id": "v9vzO1Ut33On"
   },
   "outputs": [],
   "source": [
    "def hhl(circ, ancilla, clock, input, measurement):\n",
    "    \n",
    "    qpe(circ, clock, input)\n",
    "\n",
    "    circuit.barrier()\n",
    "    \n",
    "    # This section is to test and implement C = 1\n",
    "    circuit.cry(np.pi, clock[0], ancilla)\n",
    "    circuit.cry(np.pi/3, clock[1], ancilla)\n",
    "\n",
    "    circuit.barrier()\n",
    "    \n",
    "    circuit.measure(ancilla, measurement[0])\n",
    "    circuit.barrier()\n",
    "    inv_qpe(circ, clock, input)"
   ]
  },
  {
   "cell_type": "code",
   "execution_count": 13,
   "metadata": {
    "colab": {
     "base_uri": "https://localhost:8080/"
    },
    "id": "0rJxGgI338hJ",
    "outputId": "36cbb8f4-575d-4127-f70f-1e7a84c78e77"
   },
   "outputs": [
    {
     "ename": "AttributeError",
     "evalue": "'QuantumCircuit' object has no attribute 'cu1'",
     "output_type": "error",
     "traceback": [
      "\u001b[1;31m---------------------------------------------------------------------------\u001b[0m",
      "\u001b[1;31mAttributeError\u001b[0m                            Traceback (most recent call last)",
      "Cell \u001b[1;32mIn[13], line 16\u001b[0m\n\u001b[0;32m     13\u001b[0m \u001b[38;5;66;03m# Perform a Hadamard Transform\u001b[39;00m\n\u001b[0;32m     14\u001b[0m circuit\u001b[38;5;241m.\u001b[39mh(clock)\n\u001b[1;32m---> 16\u001b[0m \u001b[43mhhl\u001b[49m\u001b[43m(\u001b[49m\u001b[43mcircuit\u001b[49m\u001b[43m,\u001b[49m\u001b[43m \u001b[49m\u001b[43mancilla\u001b[49m\u001b[43m,\u001b[49m\u001b[43m \u001b[49m\u001b[43mclock\u001b[49m\u001b[43m,\u001b[49m\u001b[43m \u001b[49m\u001b[38;5;28;43minput\u001b[39;49m\u001b[43m,\u001b[49m\u001b[43m \u001b[49m\u001b[43mmeasurement\u001b[49m\u001b[43m)\u001b[49m\n\u001b[0;32m     18\u001b[0m \u001b[38;5;66;03m# Perform a Hadamard Transform\u001b[39;00m\n\u001b[0;32m     19\u001b[0m circuit\u001b[38;5;241m.\u001b[39mh(clock)\n",
      "Cell \u001b[1;32mIn[10], line 3\u001b[0m, in \u001b[0;36mhhl\u001b[1;34m(circ, ancilla, clock, input, measurement)\u001b[0m\n\u001b[0;32m      1\u001b[0m \u001b[38;5;28;01mdef\u001b[39;00m \u001b[38;5;21mhhl\u001b[39m(circ, ancilla, clock, \u001b[38;5;28minput\u001b[39m, measurement):\n\u001b[1;32m----> 3\u001b[0m     \u001b[43mqpe\u001b[49m\u001b[43m(\u001b[49m\u001b[43mcirc\u001b[49m\u001b[43m,\u001b[49m\u001b[43m \u001b[49m\u001b[43mclock\u001b[49m\u001b[43m,\u001b[49m\u001b[43m \u001b[49m\u001b[38;5;28;43minput\u001b[39;49m\u001b[43m)\u001b[49m\n\u001b[0;32m      5\u001b[0m     circuit\u001b[38;5;241m.\u001b[39mbarrier()\n\u001b[0;32m      7\u001b[0m     \u001b[38;5;66;03m# This section is to test and implement C = 1\u001b[39;00m\n",
      "Cell \u001b[1;32mIn[9], line 13\u001b[0m, in \u001b[0;36mqpe\u001b[1;34m(circ, clock, target)\u001b[0m\n\u001b[0;32m     10\u001b[0m circuit\u001b[38;5;241m.\u001b[39mbarrier();\n\u001b[0;32m     12\u001b[0m \u001b[38;5;66;03m# Perform an inverse QFT on the register holding the eigenvalues\u001b[39;00m\n\u001b[1;32m---> 13\u001b[0m \u001b[43mqft_dagger\u001b[49m\u001b[43m(\u001b[49m\u001b[43mcircuit\u001b[49m\u001b[43m,\u001b[49m\u001b[43m \u001b[49m\u001b[43mclock\u001b[49m\u001b[43m,\u001b[49m\u001b[43m \u001b[49m\u001b[38;5;241;43m2\u001b[39;49m\u001b[43m)\u001b[49m\n",
      "Cell \u001b[1;32mIn[8], line 5\u001b[0m, in \u001b[0;36mqft_dagger\u001b[1;34m(circ, q, n)\u001b[0m\n\u001b[0;32m      3\u001b[0m \u001b[38;5;28;01mfor\u001b[39;00m j \u001b[38;5;129;01min\u001b[39;00m \u001b[38;5;28mreversed\u001b[39m(\u001b[38;5;28mrange\u001b[39m(n)):\n\u001b[0;32m      4\u001b[0m   \u001b[38;5;28;01mfor\u001b[39;00m k \u001b[38;5;129;01min\u001b[39;00m \u001b[38;5;28mreversed\u001b[39m(\u001b[38;5;28mrange\u001b[39m(j\u001b[38;5;241m+\u001b[39m\u001b[38;5;241m1\u001b[39m,n)):\n\u001b[1;32m----> 5\u001b[0m     \u001b[43mcirc\u001b[49m\u001b[38;5;241;43m.\u001b[39;49m\u001b[43mcu1\u001b[49m(\u001b[38;5;241m-\u001b[39mnp\u001b[38;5;241m.\u001b[39mpi\u001b[38;5;241m/\u001b[39m\u001b[38;5;28mfloat\u001b[39m(\u001b[38;5;241m2\u001b[39m\u001b[38;5;241m*\u001b[39m\u001b[38;5;241m*\u001b[39m(k\u001b[38;5;241m-\u001b[39mj)), q[k], q[j]);\n\u001b[0;32m      6\u001b[0m circ\u001b[38;5;241m.\u001b[39mh(clock[\u001b[38;5;241m0\u001b[39m]);\n\u001b[0;32m      7\u001b[0m circ\u001b[38;5;241m.\u001b[39mswap(clock[\u001b[38;5;241m0\u001b[39m], clock[\u001b[38;5;241m1\u001b[39m])\n",
      "\u001b[1;31mAttributeError\u001b[0m: 'QuantumCircuit' object has no attribute 'cu1'"
     ]
    }
   ],
   "source": [
    "# State preparation. (various initial values)\n",
    "# (restart from the second cell if changed)\n",
    "\n",
    "intial_state = [0,1]\n",
    "# intial_state = [1,0]\n",
    "# intial_state = [1/np.sqrt(2),1/np.sqrt(2)]\n",
    "# intial_state = [np.sqrt(0.9),np.sqrt(0.1)]\n",
    "\n",
    "circuit.initialize(intial_state, 3)\n",
    "\n",
    "circuit.barrier()\n",
    "\n",
    "# Perform a Hadamard Transform\n",
    "circuit.h(clock)\n",
    "\n",
    "hhl(circuit, ancilla, clock, input, measurement)\n",
    "\n",
    "# Perform a Hadamard Transform\n",
    "circuit.h(clock)\n",
    "\n",
    "circuit.barrier()\n",
    "\n",
    "\n",
    "circuit.measure(input, measurement[1])"
   ]
  },
  {
   "cell_type": "code",
   "execution_count": 12,
   "metadata": {
    "colab": {
     "base_uri": "https://localhost:8080/",
     "height": 549
    },
    "id": "-iXPk0fL4Djt",
    "outputId": "2d9eafa3-0591-465a-a032-81ac8fb2e6d9"
   },
   "outputs": [
    {
     "data": {
      "image/png": "[encoded data removed]",
      "text/plain": [
       "<Figure size 2268.23x953.167 with 1 Axes>"
      ]
     },
     "execution_count": 12,
     "metadata": {},
     "output_type": "execute_result"
    }
   ],
   "source": [
    "circuit.draw('mpl',scale=1)\n",
    "#print(circuit)"
   ]
  },
  {
   "cell_type": "code",
   "execution_count": null,
   "metadata": {},
   "outputs": [],
   "source": [
    "# Execute the circuit using the simulator\n",
    "simulator = qiskit.BasicAer.get_backend('qasm_simulator')\n",
    "job = execute(circuit, backend=simulator, shots=1000)\n",
    "\n",
    "#Get the result of the execution\n",
    "result = job.result()\n",
    "\n",
    "# Get the counts, the frequency of each answer\n",
    "counts = result.get_counts(circuit)\n",
    "\n",
    "# Display the results\n",
    "plot_histogram(counts)"
   ]
  },
  {
   "cell_type": "code",
   "execution_count": null,
   "metadata": {
    "colab": {
     "base_uri": "https://localhost:8080/"
    },
    "id": "6qis0UM-Zk5F",
    "outputId": "98c9b02d-3e3e-4fd0-8fbb-64b1d1abfe36"
   },
   "outputs": [],
   "source": [
    "bcknd = Aer.get_backend('statevector_simulator')\n",
    "\n",
    "job_sim = execute(circuit, bcknd)\n",
    "result = job_sim.result()\n",
    "\n",
    "o_state_result = result.get_statevector(circuit, decimals=3)\n",
    "print(o_state_result)"
   ]
  },
  {
   "cell_type": "code",
   "execution_count": null,
   "metadata": {
    "colab": {
     "base_uri": "https://localhost:8080/"
    },
    "id": "jWJ3BfVNhz6G",
    "outputId": "0c46e67b-af47-441d-da98-39fc22c04dc3"
   },
   "outputs": [],
   "source": [
    "provider.backends()\n",
    "\n",
    "# Choose the backend on which to run the circuit\n",
    "backend = provider.get_backend('ibmq_santiago')\n",
    "\n",
    "from qiskit.tools.monitor import job_monitor\n",
    "\n",
    "# Execute the job\n",
    "job_exp = execute(circuit, backend=backend, shots=8192)\n",
    "\n",
    "# Monitor the job to know where we are in the queue\n",
    "job_monitor(job_exp, interval = 2)"
   ]
  },
  {
   "cell_type": "code",
   "execution_count": null,
   "metadata": {
    "colab": {
     "base_uri": "https://localhost:8080/",
     "height": 332
    },
    "id": "s-VdjWGfh6KP",
    "outputId": "c08df400-14c0-4adf-9c4e-f8ca0b11475f"
   },
   "outputs": [],
   "source": [
    "# Get the results from the computation\n",
    "results = job_exp.result()\n",
    "\n",
    "# Get the statistics\n",
    "answer = results.get_counts(circuit)\n",
    "\n",
    "# Plot the results\n",
    "plot_histogram(answer)"
   ]
  },
  {
   "cell_type": "code",
   "execution_count": null,
   "metadata": {},
   "outputs": [],
   "source": []
  },
  {
   "cell_type": "code",
   "execution_count": null,
   "metadata": {},
   "outputs": [],
   "source": [
    "# Auto generated circuit (almost) matching the form from the Wong paper (using cu gates)\n",
    "\n",
    "from qiskit import QuantumCircuit, QuantumRegister, ClassicalRegister\n",
    "\n",
    "beta = 0\n",
    "cycle_time = 0.5\n",
    "\n",
    "qr = QuantumRegister(4)\n",
    "cr = ClassicalRegister(4)\n",
    "qc = QuantumCircuit(qr, cr, name=\"main\")\n",
    "\n",
    "intial_state = [0,1]\n",
    "qc.initialize(intial_state, qr[3])\n",
    "\n",
    "qc.barrier(qr[0], qr[1], qr[2], qr[3])\n",
    "\n",
    "qc.h(qr[1])\n",
    "qc.h(qr[2])\n",
    "\n",
    "qc.barrier(qr[0], qr[1], qr[2], qr[3])\n",
    "\n",
    "# e^{i*A*t}\n",
    "qc.cu(np.pi/2, -np.pi/2, np.pi/2, 3*np.pi/4, qr[1], qr[3], label='U');\n",
    "\n",
    "# e^{i*A*t*2}\n",
    "qc.cu(np.pi, np.pi, 0, 0, qr[2], qr[3], label='U2');\n",
    "\n",
    "qc.barrier(qr[0], qr[1], qr[2], qr[3])\n",
    "qc.h(qr[2])\n",
    "qc.cu1(-3.14159/2, qr[1], qr[2])\n",
    "qc.h(qr[1])\n",
    "qc.swap(qr[2], qr[1])\n",
    "qc.barrier(qr[0], qr[1], qr[2], qr[3])\n",
    "qc.cry(3.14159, qr[1], qr[0])\n",
    "qc.cry(3.14159/3, qr[2], qr[0])\n",
    "\n",
    "qc.barrier(qr[0], qr[1], qr[2], qr[3])\n",
    "qc.swap(qr[2], qr[1])\n",
    "qc.h(qr[1])\n",
    "qc.cu1(3.14159/2, qr[1], qr[2])\n",
    "qc.h(qr[2])\n",
    "qc.barrier(qr[0], qr[1], qr[2], qr[3])\n",
    "\n",
    "# e^{i*A*t*2}\n",
    "qc.cu(np.pi, np.pi, 0, 0, qr[2], qr[3], label='U2');\n",
    "\n",
    "# e^{i*A*t}\n",
    "qc.cu(np.pi/2, np.pi/2, -np.pi/2, -3*np.pi/4, qr[1], qr[3], label='U');\n",
    "\n",
    "qc.barrier(qr[0], qr[1], qr[2], qr[3])\n",
    "qc.h(qr[1])\n",
    "qc.h(qr[2])\n",
    "\n",
    "qc.barrier(qr[0], qr[1], qr[2], qr[3])\n",
    "qc.measure(qr[0], cr[0])\n",
    "qc.measure(qr[3], cr[3])\n",
    "\n",
    "from qiskit import execute, Aer\n",
    "backend = Aer.get_backend(\"qasm_simulator\")  # Use Aer qasm_simulator\n",
    "\n",
    "job = execute(qc, backend, shots=1000)\n",
    "result = job.result()\n",
    "counts = result.get_counts(qc)\n",
    "print(\"Total counts are:\", counts)\n",
    "\n",
    "# Draw the circuit\n",
    "print(qc)\n",
    "#qc.draw('mpl',scale=1)\n",
    "\n",
    "# Plot a histogram\n",
    "from qiskit.visualization import plot_histogram\n",
    "plot_histogram(counts)\n"
   ]
  },
  {
   "cell_type": "code",
   "execution_count": null,
   "metadata": {},
   "outputs": [],
   "source": [
    "qc.draw('mpl',scale=1)\n"
   ]
  },
  {
   "cell_type": "code",
   "execution_count": null,
   "metadata": {},
   "outputs": [],
   "source": []
  },
  {
   "cell_type": "code",
   "execution_count": null,
   "metadata": {},
   "outputs": [],
   "source": [
    "# Same example as above but using the U3 and U1 gates instead of U1\n",
    "# Initialize with RY instead of \"initialize()\"\n",
    "\n",
    "from qiskit import QuantumCircuit, QuantumRegister, ClassicalRegister\n",
    "\n",
    "beta = 1\n",
    "\n",
    "qr = QuantumRegister(4)\n",
    "cr = ClassicalRegister(4)\n",
    "qc = QuantumCircuit(qr, cr, name=\"main\")\n",
    "\n",
    "# intial_state = [0,1]\n",
    "# qc.initialize(intial_state, qr[3])\n",
    "qc.ry(3.14159*beta, qr[3])\n",
    "\n",
    "qc.barrier(qr[0], qr[1], qr[2], qr[3])\n",
    "\n",
    "qc.h(qr[1])\n",
    "qc.h(qr[2])\n",
    "qc.barrier(qr[0], qr[1], qr[2], qr[3])\n",
    "\n",
    "# e^{i*A*t}\n",
    "# qc.cu(np.pi/2, -np.pi/2, np.pi/2, 3*np.pi/4, qr[1], qr[3], label='U');\n",
    "\n",
    "# The CU gate is equivalent to a CU1 on the control bit followed by a CU3\n",
    "qc.u1(3*3.14159/4, qr[1])\n",
    "qc.cu3(3.14159/2, -3.14159/2, 3.14159/2, qr[1], qr[3])\n",
    "\n",
    "# e^{i*A*t*2}\n",
    "# qc.cu(np.pi, np.pi, 0, 0, qr[2], qr[3], label='U2');\n",
    "qc.cu3(3.14159, 3.14159, 0, qr[2], qr[3])\n",
    "\n",
    "qc.barrier(qr[0], qr[1], qr[2], qr[3])\n",
    "qc.h(qr[2])\n",
    "qc.cu1(-3.14159/2, qr[1], qr[2])\n",
    "qc.h(qr[1])\n",
    "qc.swap(qr[2], qr[1])\n",
    "qc.barrier(qr[0], qr[1], qr[2], qr[3])\n",
    "qc.cry(3.14159, qr[1], qr[0])\n",
    "qc.cry(3.14159/3, qr[2], qr[0])\n",
    "qc.barrier(qr[0], qr[1], qr[2], qr[3])\n",
    "qc.swap(qr[2], qr[1])\n",
    "qc.h(qr[1])\n",
    "qc.cu1(3.14159/2, qr[1], qr[2])\n",
    "qc.h(qr[2])\n",
    "qc.barrier(qr[0], qr[1], qr[2], qr[3])\n",
    "\n",
    "# e^{i*A*t*2}\n",
    "# qc.cu(np.pi, np.pi, 0, 0, qr[2], qr[3], label='U2');\n",
    "qc.cu3(3.14159, 3.14159, 0, qr[2], qr[3])\n",
    "\n",
    "# e^{i*A*t}\n",
    "# qc.cu(np.pi/2, np.pi/2, -np.pi/2, -3*np.pi/4, qr[1], qr[3], label='U');\n",
    "\n",
    "# The CU gate is equivalent to a CU1 on the control bit follwed by a CU3\n",
    "qc.u1(-3*3.14159/4, qr[1])\n",
    "qc.cu3(3.14159/2, 3.14159/2, -3.14159/2, qr[1], qr[3])\n",
    "\n",
    "qc.barrier(qr[0], qr[1], qr[2], qr[3])\n",
    "\n",
    "qc.h(qr[1])\n",
    "qc.h(qr[2])\n",
    "\n",
    "qc.barrier(qr[0], qr[1], qr[2], qr[3])\n",
    "\n",
    "qc.measure(qr[0], cr[0])\n",
    "qc.measure(qr[3], cr[3])\n",
    "# qc.measure(qr, cr)\n",
    "\n",
    "from qiskit import execute, Aer\n",
    "backend = Aer.get_backend(\"qasm_simulator\")  # Use Aer qasm_simulator\n",
    "\n",
    "job = execute(qc, backend, shots=1000)\n",
    "result = job.result()\n",
    "counts = result.get_counts(qc)\n",
    "print(\"Total counts are:\", counts)\n",
    "\n",
    "# Draw the circuit\n",
    "print(qc)\n",
    "\n",
    "# Plot a histogram\n",
    "from qiskit.visualization import plot_histogram\n",
    "plot_histogram(counts)\n"
   ]
  },
  {
   "cell_type": "code",
   "execution_count": null,
   "metadata": {
    "scrolled": true
   },
   "outputs": [],
   "source": [
    "qc.draw('mpl',scale=1)\n"
   ]
  },
  {
   "cell_type": "code",
   "execution_count": null,
   "metadata": {},
   "outputs": [],
   "source": []
  }
 ],
 "metadata": {
  "colab": {
   "collapsed_sections": [],
   "name": "Final_HHL_2x2_Conferecnce_Wong_Morrell.ipynb",
   "provenance": []
  },
  "kernelspec": {
   "display_name": "Python 3 (ipykernel)",
   "language": "python",
   "name": "python3"
  },
  "language_info": {
   "codemirror_mode": {
    "name": "ipython",
    "version": 3
   },
   "file_extension": ".py",
   "mimetype": "text/x-python",
   "name": "python",
   "nbconvert_exporter": "python",
   "pygments_lexer": "ipython3",
   "version": "3.8.18"
  }
 },
 "nbformat": 4,
 "nbformat_minor": 4
}
